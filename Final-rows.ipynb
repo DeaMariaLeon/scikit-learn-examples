{
 "cells": [
  {
   "cell_type": "code",
   "execution_count": 1,
   "id": "896cacc6",
   "metadata": {},
   "outputs": [
    {
     "name": "stdout",
     "output_type": "stream",
     "text": [
      "Running on local URL:  http://127.0.0.1:7860\n",
      "\n",
      "To create a public link, set `share=True` in `launch()`.\n"
     ]
    },
    {
     "data": {
      "text/html": [
       "<div><iframe src=\"http://127.0.0.1:7860/\" width=\"100%\" height=\"500\" allow=\"autoplay; camera; microphone; clipboard-read; clipboard-write;\" frameborder=\"0\" allowfullscreen></iframe></div>"
      ],
      "text/plain": [
       "<IPython.core.display.HTML object>"
      ]
     },
     "metadata": {},
     "output_type": "display_data"
    },
    {
     "data": {
      "text/plain": []
     },
     "execution_count": 1,
     "metadata": {},
     "output_type": "execute_result"
    }
   ],
   "source": [
    "import numpy as np\n",
    "import matplotlib.pyplot as plt\n",
    "from sklearn.linear_model import MultiTaskLasso, Lasso\n",
    "import gradio as gr\n",
    "import time\n",
    "\n",
    "rng = np.random.RandomState(42)\n",
    "\n",
    "# Generate some 2D coefficients with sine waves with random frequency and phase\n",
    "def make_plot(n_samples, n_features, n_tasks, n_relevant_features, alpha, progress=gr.Progress()):\n",
    "    \n",
    "    progress(0, desc=\"Starting...\")\n",
    "    time.sleep(1)\n",
    "    for i in progress.tqdm(range(100)):\n",
    "        time.sleep(0.1) \n",
    "\n",
    "    coef = np.zeros((n_tasks, n_features))\n",
    "    times = np.linspace(0, 2 * np.pi, n_tasks)\n",
    "    for k in range(n_relevant_features):\n",
    "        coef[:, k] = np.sin((1.0 + rng.randn(1)) * times + 3 * rng.randn(1))\n",
    "    \n",
    "    X = rng.randn(n_samples, n_features)\n",
    "    Y = np.dot(X, coef.T) + rng.randn(n_samples, n_tasks)\n",
    "    \n",
    "    coef_lasso_ = np.array([Lasso(alpha=0.5).fit(X, y).coef_ for y in Y.T])\n",
    "    coef_multi_task_lasso_ = MultiTaskLasso(alpha=alpha).fit(X, Y).coef_\n",
    "    \n",
    "    fig = plt.figure(figsize=(8, 5))\n",
    "    \n",
    "    feature_to_plot = 0\n",
    "    fig = plt.figure()\n",
    "    lw = 2\n",
    "    plt.plot(coef[:, feature_to_plot], color=\"seagreen\", linewidth=lw, label=\"Ground truth\")\n",
    "    plt.plot(\n",
    "        coef_lasso_[:, feature_to_plot], color=\"cornflowerblue\", linewidth=lw, label=\"Lasso\"\n",
    "    )\n",
    "    plt.plot(\n",
    "        coef_multi_task_lasso_[:, feature_to_plot],\n",
    "        color=\"gold\",\n",
    "        linewidth=lw,\n",
    "        label=\"MultiTaskLasso\",\n",
    "    )\n",
    "    #plt.legend(loc=\"upper center\")\n",
    "    plt.legend(loc='upper center', bbox_to_anchor=(0.5, -0.05),\n",
    "          ncol=3, fancybox=True, shadow=True)\n",
    "    plt.axis(\"tight\")\n",
    "    plt.ylim([-1.1, 1.1])\n",
    "    fig.suptitle(\"Lasso, MultiTaskLasso and Ground truth time series\")\n",
    "    return fig\n",
    "   \n",
    "    \n",
    "model_card = f\"\"\"\n",
    "## Description\n",
    "Multi-task Lasso allows us to jointly fit multiple regression problems  by enforcing the selected features to be the same across tasks. This example simulates sequential measurement. Each task\n",
    "is a time instant, and the relevant features, while being the same, vary in amplitude over time. Multi-task lasso imposes that features that are selected at one time point are selected\n",
    "for all time points. This makes feature selection more stable than by regular Lasso.\n",
    "## Model\n",
    "currentmodule: sklearn.linear_model\n",
    "class:`Lasso` and class: `MultiTaskLasso` are used in this example.\n",
    "Plots represent Lasso, MultiTaskLasso and Ground truth time series\n",
    "\"\"\"\n",
    "\n",
    "theme = gr.themes.Glass(primary_hue=gr.themes.colors.gray, \n",
    "               secondary_hue=gr.themes.colors.sky,\n",
    "               text_size=gr.themes.sizes.text_lg).set(slider_color=\"#b2dcf3\")\n",
    "\n",
    "with gr.Blocks(theme=theme,\n",
    "               css=\".gradio-container {background-color: #335960}\") as demo:\n",
    "    \n",
    "    gr.Markdown('''\n",
    "            <div>\n",
    "            <h1 style='text-align: center'> Joint feature selection with multi-task Lasso </h1>\n",
    "            </div>\n",
    "        ''')\n",
    "    gr.Markdown(model_card)\n",
    "    gr.Markdown(\"Original example Author: Alexandre Gramfort <alexandre.gramfort@inria.fr>\")\n",
    "    gr.Markdown(\n",
    "        \"Iterative conversion by: <a href=\\\"https://www.deamarialeon.com\\\">Dea María Léon</a>\"\n",
    "    )\n",
    "    gr.Markdown(\"### Please select values and click submit:\")\n",
    "    \n",
    "    with gr.Row().style(equal_height=True):    \n",
    "       n_samples = gr.Slider(50,500,value=100,step=50,label='Number of samples')\n",
    "       n_features = gr.Slider(5,50,value=30,step=5,label='Features')\n",
    "       n_tasks = gr.Slider(5,50,value=40,step=5,label='Tasks')\n",
    "       n_relevant_features = gr.Slider(1,10,value=5,step=1,label='Relevant features')\n",
    "       alpha = gr.Slider(0,10,value=1.0,step=0.5,label='Alpha Range')\n",
    "            \n",
    "    btn = gr.Button(value = 'Submit')\n",
    "\n",
    "    btn.click(make_plot,inputs=[n_samples,n_features, n_tasks, n_relevant_features, alpha],outputs=[gr.Plot()])\n",
    "\n",
    "demo.queue().launch()"
   ]
  },
  {
   "cell_type": "code",
   "execution_count": null,
   "id": "c8043d31",
   "metadata": {},
   "outputs": [],
   "source": []
  }
 ],
 "metadata": {
  "kernelspec": {
   "display_name": "examples",
   "language": "python",
   "name": "examples"
  },
  "language_info": {
   "codemirror_mode": {
    "name": "ipython",
    "version": 3
   },
   "file_extension": ".py",
   "mimetype": "text/x-python",
   "name": "python",
   "nbconvert_exporter": "python",
   "pygments_lexer": "ipython3",
   "version": "3.10.10"
  }
 },
 "nbformat": 4,
 "nbformat_minor": 5
}
